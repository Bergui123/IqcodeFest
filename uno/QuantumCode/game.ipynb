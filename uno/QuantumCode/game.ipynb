{
 "cells": [
  {
   "cell_type": "code",
   "execution_count": 2,
   "id": "22c2ac7b",
   "metadata": {},
   "outputs": [],
   "source": [
    "from qiskit import QuantumCircuit\n",
    "from qiskit_aer import AerSimulator # new simulator backend replacing BasicAer\n",
    "from qiskit import transpile"
   ]
  },
  {
   "cell_type": "code",
   "execution_count": 4,
   "id": "a2ce13bf",
   "metadata": {},
   "outputs": [
    {
     "name": "stdout",
     "output_type": "stream",
     "text": [
      "Measured number: 4\n"
     ]
    }
   ],
   "source": [
    "n_qubits = 3\n",
    "qc = QuantumCircuit(n_qubits, n_qubits)\n",
    "\n",
    "# Put all qubits into superposition\n",
    "for q in range(n_qubits):\n",
    "    qc.h(q)\n",
    "\n",
    "qc.measure(range(n_qubits), range(n_qubits))\n",
    "sim = AerSimulator()    \n",
    "qc = transpile(qc, sim)\n",
    "job = sim.run(qc)\n",
    "result = job.result()\n",
    "counts = result.get_counts()\n",
    "\n",
    "bitstring = list(counts.keys())[0]\n",
    "number = int(bitstring, 2)\n",
    "print(f\"Measured number: {number}\")\n",
    "\n"
   ]
  },
  {
   "cell_type": "code",
   "execution_count": null,
   "id": "4baefe48",
   "metadata": {},
   "outputs": [],
   "source": []
  }
 ],
 "metadata": {
  "kernelspec": {
   "display_name": ".venv",
   "language": "python",
   "name": "python3"
  },
  "language_info": {
   "codemirror_mode": {
    "name": "ipython",
    "version": 3
   },
   "file_extension": ".py",
   "mimetype": "text/x-python",
   "name": "python",
   "nbconvert_exporter": "python",
   "pygments_lexer": "ipython3",
   "version": "3.13.3"
  }
 },
 "nbformat": 4,
 "nbformat_minor": 5
}
